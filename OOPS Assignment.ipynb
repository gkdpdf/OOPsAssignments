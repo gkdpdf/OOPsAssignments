{
 "cells": [
  {
   "cell_type": "code",
   "execution_count": 1,
   "id": "8300c365-2850-41ee-813d-b35b67abb73e",
   "metadata": {},
   "outputs": [],
   "source": [
    "##1Explain Class and Object with respect to Object-Oriented Programming. Give a suitable example."
   ]
  },
  {
   "cell_type": "code",
   "execution_count": 2,
   "id": "c7d2af27-447b-4791-948c-8687432c7197",
   "metadata": {},
   "outputs": [
    {
     "data": {
      "text/plain": [
       "'Class is a real world identities and objects are part of it.\\n for example : Car is a class and different types of brands of cars is like an object of class car'"
      ]
     },
     "execution_count": 2,
     "metadata": {},
     "output_type": "execute_result"
    }
   ],
   "source": [
    "'''Class is a real world identities and objects are part of it.\n",
    " for example : Car is a class and different types of brands of cars is like an object of class car'''"
   ]
  },
  {
   "cell_type": "code",
   "execution_count": 4,
   "id": "adf4893c-030d-4bb3-aad1-71a0d6317d07",
   "metadata": {},
   "outputs": [
    {
     "data": {
      "text/plain": [
       "'Abstraction\\nEncapsulation\\nInheritance\\nPolymorphism'"
      ]
     },
     "execution_count": 4,
     "metadata": {},
     "output_type": "execute_result"
    }
   ],
   "source": [
    "###2Name the four pillars of OOPs.\n",
    "'''Abstraction\n",
    "Encapsulation\n",
    "Inheritance\n",
    "Polymorphism'''"
   ]
  },
  {
   "cell_type": "code",
   "execution_count": 6,
   "id": "d5f02217-e639-46f2-bf3b-d75ab4e604dc",
   "metadata": {},
   "outputs": [
    {
     "data": {
      "text/plain": [
       "'It is a constructor used to define object at the time of creation of object and parameterising the object attributes\\nfor example : def __init__ (self, name, number): '"
      ]
     },
     "execution_count": 6,
     "metadata": {},
     "output_type": "execute_result"
    }
   ],
   "source": [
    "##3Explain why the __init__() function is used. Give a suitable example.\n",
    "'''It is a constructor used to define object at the time of creation of object and parameterising the object attributes\n",
    "for example : def __init__ (self, name, number): '''"
   ]
  },
  {
   "cell_type": "code",
   "execution_count": 7,
   "id": "923429e4-70d5-4307-ad32-fea2a6f5e39d",
   "metadata": {},
   "outputs": [
    {
     "data": {
      "text/plain": [
       "'Self is the pointer to point the parameters onto the class'"
      ]
     },
     "execution_count": 7,
     "metadata": {},
     "output_type": "execute_result"
    }
   ],
   "source": [
    "###4Why self is used in OOPs?\n",
    "'''Self is the pointer to point the parameters onto the class'''"
   ]
  },
  {
   "cell_type": "code",
   "execution_count": 8,
   "id": "457ae5b9-fc84-4b96-a8a9-48f93a89f7a3",
   "metadata": {},
   "outputs": [
    {
     "data": {
      "text/plain": [
       "'Hybrid Inheritance: \\nInheritance consisting of multiple types of inheritance is called hybrid inheritance.'"
      ]
     },
     "execution_count": 8,
     "metadata": {},
     "output_type": "execute_result"
    }
   ],
   "source": [
    "###5What is inheritance? Give an example for each type of inheritance.\n",
    "'''Inheritance is defined as the mechanism of inheriting the properties of the base class to the child class.'''\n",
    "'''Single Inheritance: \n",
    "Single inheritance enables a derived class to inherit properties from a single parent class, thus enabling code reusability and the addition of new features to existing code.\n",
    "\n",
    "'''\n",
    "'''Multiple Inheritance: \n",
    "When a class can be derived from more than one base class this type of inheritance is called multiple inheritances. In multiple inheritances, all the features of the base classes are inherited into the derived class. '''\n",
    "'''Multilevel Inheritance :\n",
    "In multilevel inheritance, features of the base class and the derived class are further inherited into the new derived class. This is similar to a relationship representing a child and a grandfather.'''\n",
    "'''\n",
    "Hierarchical Inheritance: \n",
    "When more than one derived class are created from a single base this type of inheritance is called hierarchical inheritance. In this program, we have a parent (base) class and two child (derived) classes.'''\n",
    "'''Hybrid Inheritance: \n",
    "Inheritance consisting of multiple types of inheritance is called hybrid inheritance.'''"
   ]
  },
  {
   "cell_type": "code",
   "execution_count": null,
   "id": "ee2bdc2c-2972-4655-b140-96a3640dd1de",
   "metadata": {},
   "outputs": [],
   "source": []
  }
 ],
 "metadata": {
  "kernelspec": {
   "display_name": "Python 3 (ipykernel)",
   "language": "python",
   "name": "python3"
  },
  "language_info": {
   "codemirror_mode": {
    "name": "ipython",
    "version": 3
   },
   "file_extension": ".py",
   "mimetype": "text/x-python",
   "name": "python",
   "nbconvert_exporter": "python",
   "pygments_lexer": "ipython3",
   "version": "3.10.8"
  }
 },
 "nbformat": 4,
 "nbformat_minor": 5
}
